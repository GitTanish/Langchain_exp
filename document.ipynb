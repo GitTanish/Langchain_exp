{
 "cells": [
  {
   "cell_type": "code",
   "execution_count": 23,
   "id": "8b473248",
   "metadata": {},
   "outputs": [
    {
     "data": {
      "text/plain": [
       "True"
      ]
     },
     "execution_count": 23,
     "metadata": {},
     "output_type": "execute_result"
    }
   ],
   "source": [
    "from langchain_community.document_loaders import PyPDFLoader\n",
    "from langchain_community.document_loaders import PyPDFDirectoryLoader\n",
    "from langchain.text_splitter import RecursiveCharacterTextSplitter\n",
    "from langchain_community.vectorstores import FAISS\n",
    "from langchain_community.embeddings import HuggingFaceEmbeddings\n",
    "from langchain.prompts import PromptTemplate\n",
    "from langchain.chains import RetrievalQA\n",
    "from langchain_groq import ChatGroq\n",
    "import os\n",
    "from dotenv import load_dotenv\n",
    "load_dotenv()"
   ]
  },
  {
   "cell_type": "code",
   "execution_count": 24,
   "id": "94a30567",
   "metadata": {},
   "outputs": [
    {
     "name": "stdout",
     "output_type": "stream",
     "text": [
      "Success: The file 'Pesreport.pdf' exists and is a file.\n",
      "Number of chunks: 219\n"
     ]
    }
   ],
   "source": [
    "file_path = r'Pesreport.pdf'\n",
    "\n",
    "if not os.path.exists(file_path):\n",
    "    print(f\"Error: The file '{file_path}' does not exist.\")\n",
    "elif not os.path.isfile(file_path):\n",
    "    print(f\"Error: '{file_path}' is not a file (it might be a directory or something else).\")\n",
    "else:\n",
    "    print(f\"Success: The file '{file_path}' exists and is a file.\")\n",
    "\n",
    "if os.path.isfile(file_path):\n",
    "    from langchain_community.document_loaders import PyPDFLoader\n",
    "    loader = PyPDFLoader(file_path)\n",
    "    document = loader.load()\n",
    "    text_splitter = RecursiveCharacterTextSplitter(chunk_size=1000, chunk_overlap=200)\n",
    "    final_documents = text_splitter.split_documents(document)\n",
    "    print(f\"Number of chunks: {len(final_documents)}\")"
   ]
  },
  {
   "cell_type": "code",
   "execution_count": null,
   "id": "1704db61",
   "metadata": {},
   "outputs": [
    {
     "data": {
      "text/plain": [
       "219"
      ]
     },
     "execution_count": 25,
     "metadata": {},
     "output_type": "execute_result"
    }
   ],
   "source": [
    "len(final_documents)"
   ]
  },
  {
   "cell_type": "code",
   "execution_count": 26,
   "id": "9648e8b4",
   "metadata": {},
   "outputs": [],
   "source": [
    "### Embedding\n",
    "embedding = HuggingFaceEmbeddings(\n",
    "    model_name=\"sentence-transformers/all-MiniLM-L6-v2\"\n",
    ")\n",
    "\n"
   ]
  },
  {
   "cell_type": "code",
   "execution_count": 27,
   "id": "1e87460b",
   "metadata": {},
   "outputs": [
    {
     "data": {
      "text/plain": [
       "array([-2.62791421e-02, -4.86245006e-02, -4.91976850e-02,  2.55007558e-02,\n",
       "       -8.38903412e-02,  8.51731822e-02, -3.87536027e-02, -2.17713192e-02,\n",
       "       -1.25799730e-01, -2.12396309e-02,  2.53782086e-02, -1.18406355e-01,\n",
       "        2.70975325e-02, -6.42396584e-02, -3.52003947e-02, -1.40098296e-02,\n",
       "        1.80908665e-02,  4.38999990e-03,  1.05664141e-01, -6.51316792e-02,\n",
       "        1.26087619e-02,  7.73497969e-02,  7.64155164e-02, -5.30320872e-03,\n",
       "       -1.28276693e-02, -3.54953222e-02,  2.87768133e-02,  5.75752556e-03,\n",
       "       -1.78227518e-02, -1.71144437e-02,  3.02665997e-02,  5.83838522e-02,\n",
       "        7.05711320e-02,  6.33044615e-02,  6.22752607e-02, -7.40776360e-02,\n",
       "       -1.55478474e-02,  7.71644786e-02,  8.65241587e-02, -3.78231890e-02,\n",
       "       -2.84527410e-02, -5.93127757e-02,  1.69618744e-02, -3.17490175e-02,\n",
       "        2.17909012e-02,  5.08087203e-02, -7.25434395e-04, -4.49001091e-03,\n",
       "       -2.66485307e-02,  7.63845146e-02,  1.25481386e-03,  7.02266246e-02,\n",
       "       -1.11619104e-02,  3.37805003e-02,  5.48831336e-02, -3.99942882e-02,\n",
       "       -5.59766069e-02, -8.28169286e-02, -2.48081237e-02,  6.78402632e-02,\n",
       "        5.50632514e-02,  4.72447202e-02, -5.16195111e-02,  3.24399322e-02,\n",
       "        1.56857315e-02,  2.05059629e-03, -1.28147937e-02, -2.21476220e-02,\n",
       "        1.74542032e-02, -8.71508792e-02,  2.25865860e-02,  2.78866086e-02,\n",
       "        3.96649465e-02,  1.73509549e-02, -2.28322372e-02, -4.77773212e-02,\n",
       "       -9.94074941e-02,  3.98918539e-02, -2.02506538e-02, -1.02255501e-01,\n",
       "       -7.59718800e-03,  3.09038870e-02,  1.72149427e-02,  5.41017018e-02,\n",
       "       -1.75117664e-02, -2.18780711e-02, -1.96310226e-02,  3.34672779e-02,\n",
       "       -5.34280315e-02, -1.24764191e-02,  6.01751655e-02,  1.11029521e-01,\n",
       "        5.90224825e-02,  5.35189779e-03,  1.29690976e-03, -5.44209257e-02,\n",
       "       -3.27106826e-02,  3.41649763e-02,  1.66647397e-02,  4.26931903e-02,\n",
       "       -5.02656288e-02, -2.72751637e-02, -1.33274212e-01,  7.17350245e-02,\n",
       "       -1.20910071e-01,  4.22971090e-03, -1.12487385e-02,  3.28290951e-03,\n",
       "       -1.76928304e-02, -3.65703809e-03, -1.58329736e-02, -5.65571934e-02,\n",
       "       -8.94623101e-02,  8.79815256e-04, -3.12744565e-02, -9.20016319e-02,\n",
       "        4.18588333e-02,  5.41006476e-02,  4.07931469e-02,  3.75204235e-02,\n",
       "       -3.48807015e-02,  1.96224004e-02, -1.46470303e-02, -3.52187380e-02,\n",
       "        5.56762703e-02, -5.44928573e-03,  4.90657501e-02, -3.64866490e-34,\n",
       "        4.71105836e-02, -4.68987077e-02,  1.04316175e-01,  5.13553396e-02,\n",
       "       -6.12625293e-02,  2.96441447e-02, -5.65456375e-02,  4.29178542e-03,\n",
       "        5.47250323e-02, -4.85068262e-02,  2.47000046e-02,  5.22759333e-02,\n",
       "        4.79920246e-02, -9.82565247e-03,  3.58966142e-02, -1.32332416e-02,\n",
       "        1.56177161e-02,  6.83717206e-02, -5.51595911e-02,  4.10837159e-02,\n",
       "       -2.34069303e-02, -4.78586741e-02,  6.20290786e-02,  4.38079350e-02,\n",
       "        3.06156445e-02,  2.14315150e-02, -2.18764087e-03,  1.39252217e-02,\n",
       "        4.60549220e-02,  4.38146926e-02,  4.64592986e-02, -6.30015731e-02,\n",
       "       -2.07827818e-02, -3.21211964e-02,  9.70016047e-03,  6.57737106e-02,\n",
       "        7.25307390e-02,  1.29773989e-02, -1.58201121e-02, -3.89358960e-02,\n",
       "       -4.72137257e-02,  1.78449657e-02,  5.42210937e-02,  3.70507352e-02,\n",
       "       -5.89657091e-02,  4.76856939e-02,  7.91782811e-02,  4.03942652e-02,\n",
       "        6.16563447e-02,  4.73507941e-02, -9.70109832e-03, -4.54634540e-02,\n",
       "       -6.43709153e-02, -8.87552276e-03,  1.44703342e-02, -1.62336994e-02,\n",
       "        3.92212793e-02, -3.65935266e-03, -6.86368160e-03,  1.14494748e-01,\n",
       "        1.95637718e-02,  2.10572146e-02, -6.95488602e-02, -4.82175574e-02,\n",
       "       -1.05482191e-02, -7.28977621e-02,  2.74243224e-02,  4.63832868e-03,\n",
       "        2.20634528e-02, -4.08367142e-02,  2.53064465e-02,  2.41779145e-02,\n",
       "       -7.28589296e-02,  1.14968494e-01, -7.71309715e-03,  5.88244721e-02,\n",
       "       -2.50443462e-02, -2.15630047e-02, -5.97027913e-02,  2.02226881e-02,\n",
       "        2.10738601e-03,  2.60504447e-02, -7.84468502e-02, -9.98935774e-02,\n",
       "        1.36772528e-01, -2.52675898e-02, -3.73777398e-03, -3.15656476e-02,\n",
       "        5.70788942e-02,  9.28681751e-04, -9.79603647e-05,  6.14839187e-03,\n",
       "        5.64450910e-03,  3.79678346e-02,  1.89296454e-02, -2.88514748e-33,\n",
       "       -1.02093734e-01,  2.34371237e-02, -1.15064234e-01,  2.36105081e-02,\n",
       "       -5.61612174e-02,  4.30940352e-02,  6.46169409e-02,  6.24825619e-03,\n",
       "        8.55801478e-02,  4.52781282e-02, -5.44505380e-02,  6.33637905e-02,\n",
       "        8.53568241e-02,  1.85389270e-03, -9.33398958e-03, -5.85367382e-02,\n",
       "       -8.97348449e-02, -1.51571929e-02, -5.80955371e-02, -2.14426592e-02,\n",
       "        3.45082954e-03,  5.29078282e-02, -1.63072981e-02, -7.77533874e-02,\n",
       "       -9.92141068e-02,  5.44890389e-02, -7.24479705e-02,  4.88775484e-02,\n",
       "        6.42620921e-02, -2.76153814e-03, -2.24512443e-03, -1.55439690e-01,\n",
       "       -7.45466202e-02,  3.94458286e-02, -4.29138169e-02, -4.99063618e-02,\n",
       "        1.18005365e-01, -4.56192270e-02, -3.67220528e-02,  5.10849506e-02,\n",
       "       -4.22737673e-02,  5.29612750e-02,  8.59961007e-03,  2.62777843e-02,\n",
       "        1.08240442e-02, -8.76720324e-02, -2.76128873e-02,  3.54918987e-02,\n",
       "       -6.81109801e-02, -2.42470112e-02,  1.67953130e-02,  2.53553987e-02,\n",
       "        2.31117588e-02,  1.35117564e-02,  1.27060534e-02, -1.10235624e-03,\n",
       "       -3.74547318e-02,  3.11720166e-02, -5.04358346e-03,  4.73141000e-02,\n",
       "        6.70873225e-02,  1.30798191e-01, -4.20648791e-02,  1.09453373e-01,\n",
       "        1.36898495e-02, -1.09446704e-01,  4.06520441e-02, -6.90539628e-02,\n",
       "       -3.38819921e-02, -5.98197579e-02,  2.18531936e-02, -1.50221661e-01,\n",
       "       -6.61895350e-02, -4.62387502e-02, -3.33203822e-02, -2.86484580e-03,\n",
       "        1.89027924e-04,  2.62862723e-02, -8.98118317e-03, -1.55563392e-02,\n",
       "        7.47570739e-05,  6.21239538e-04,  1.55342594e-02,  5.33935875e-02,\n",
       "       -1.24167781e-02, -5.59223555e-02,  1.56067446e-01, -2.16894206e-02,\n",
       "        3.81672941e-02,  1.96010508e-02, -4.96508181e-03, -1.36167146e-02,\n",
       "       -3.42735760e-02,  1.98613498e-02, -4.07796400e-03, -2.92684401e-08,\n",
       "        8.09158292e-03, -6.83120564e-02, -2.36719800e-03,  1.15309702e-02,\n",
       "        1.03093415e-01, -2.56509110e-02, -3.08195073e-02,  6.16628043e-02,\n",
       "        5.36580682e-02, -1.35391159e-02,  8.06036368e-02, -1.46284085e-02,\n",
       "       -6.40773401e-02,  6.77805766e-03, -2.03436725e-02, -4.50586304e-02,\n",
       "        1.42813409e-02, -1.60583463e-02, -2.32912488e-02, -1.79170277e-02,\n",
       "       -3.90494317e-02,  1.97649077e-02,  1.02898674e-02, -4.85701226e-02,\n",
       "       -1.84996389e-02, -2.67973375e-02, -5.55880964e-02, -6.39536455e-02,\n",
       "       -4.05840576e-02,  2.00640913e-02, -8.11897404e-03,  2.12178174e-02,\n",
       "       -1.24301398e-02, -1.03884697e-01,  3.94075662e-02,  4.86029498e-02,\n",
       "        1.06339175e-02,  7.85500258e-02,  7.06048608e-02, -4.15239446e-02,\n",
       "       -5.19824401e-02, -3.24646384e-02,  3.27586220e-03,  4.28061709e-02,\n",
       "       -6.62027393e-03, -2.38077193e-02, -3.76688316e-02, -7.86751211e-02,\n",
       "       -9.83773451e-03, -6.65605664e-02, -7.74866492e-02, -4.30829078e-02,\n",
       "        3.48084718e-02, -1.44793023e-03, -6.84676692e-02,  3.72988954e-02,\n",
       "       -3.61469053e-02, -4.95602675e-02,  4.61019687e-02,  2.14425046e-02,\n",
       "        6.65166378e-02, -9.73338354e-03, -1.00603618e-01,  4.96308431e-02])"
      ]
     },
     "execution_count": 27,
     "metadata": {},
     "output_type": "execute_result"
    }
   ],
   "source": [
    "import numpy as np\n",
    "np.array(embedding.embed_query(final_documents[0].page_content))\n"
   ]
  },
  {
   "cell_type": "code",
   "execution_count": 28,
   "id": "bbe0b680",
   "metadata": {},
   "outputs": [],
   "source": [
    "vectorstore = FAISS.from_documents(\n",
    "    documents=final_documents[:120],\n",
    "    embedding=embedding\n",
    ")"
   ]
  },
  {
   "cell_type": "code",
   "execution_count": 34,
   "id": "ccd86df3",
   "metadata": {},
   "outputs": [
    {
     "name": "stdout",
     "output_type": "stream",
     "text": [
      "CHAPTER-1 \n",
      " \n",
      "INTRODUCTION \n",
      " \n",
      "The data collected through any field inquiry is subjected to certain amount of error, that \n",
      "normally creeps in due to the error committed by the investigator or the respondent. A massive \n",
      "operation like the population census is no exception, where some amount of error is inevitable  \n",
      "considering the fact that a large number of enumerators and supervisors are engaged in the \n",
      "collection of data,  in spite of the best of the intentions and efforts to collect the accurate data. \n",
      "Post Enumeration Survey (PES) is a sample survey conducted immediately after the census in \n",
      "order to assess the coverage and quality of the census enumeration. A large number of countries \n",
      "carry out a Post Enumeration Survey (PES) after the completion of the census to s cientifically \n",
      "measure the degree of accuracy. The Post Enumeration Check (PEC), as it used to be called \n",
      "earlier and renamed as Post Enumeration Survey (PES) in the 2001 Census, has become an\n"
     ]
    }
   ],
   "source": [
    "query = \"WHAT IS PES REPORT?\"\n",
    "retriever = vectorstore.similarity_search(query, k=3)\n",
    "print(retriever[0].page_content)"
   ]
  },
  {
   "cell_type": "code",
   "execution_count": 35,
   "id": "22a05f4c",
   "metadata": {},
   "outputs": [
    {
     "name": "stdout",
     "output_type": "stream",
     "text": [
      "content=\"PES stands for **Physical Education and Sports**. \\n\\nA PES report is likely a report card or assessment document related to a student's performance in Physical Education and Sports classes. \\n\\nHere's what it might include:\\n\\n* **Academic Performance:** Grades or marks on tests, quizzes, and assignments related to the theoretical aspects of PE, like anatomy, physiology, or sports rules.\\n* **Physical Skills:** Evaluation of the student's abilities in various physical activities, such as running, jumping, throwing, catching, and team sports.\\n* **Fitness Levels:** Assessment of the student's cardiovascular endurance, muscular strength, flexibility, and body composition.\\n* **Sportsmanship:** Evaluation of the student's behavior and attitude towards themselves, teammates, opponents, and officials.\\n* **Participation:**  Record of the student's attendance and engagement in class activities and sports events.\\n\\nThe specific content and format of a PES report will vary depending on the school or educational institution.\\n\\n\\nLet me know if you have any other questions!\\n\" additional_kwargs={} response_metadata={'token_usage': {'completion_tokens': 216, 'prompt_tokens': 14, 'total_tokens': 230, 'completion_time': 0.392727273, 'prompt_time': 0.001897945, 'queue_time': 0.242736774, 'total_time': 0.394625218}, 'model_name': 'gemma2-9b-it', 'system_fingerprint': 'fp_10c08bf97d', 'finish_reason': 'stop', 'logprobs': None} id='run--e99f2ca6-80a4-4e0c-8465-0fc9ee2d2fe9-0' usage_metadata={'input_tokens': 14, 'output_tokens': 216, 'total_tokens': 230}\n"
     ]
    }
   ],
   "source": [
    "from langchain_groq import ChatGroq\n",
    "from langchain.agents import initialize_agent, AgentType\n",
    "\n",
    "# Step 1: Load Groq LLM\n",
    "llm = ChatGroq(\n",
    "    model=\"gemma2-9b-it\", \n",
    "    temperature=0.1,\n",
    ")\n",
    "\n",
    "response = llm.invoke(\"What is PES report?\")\n",
    "print(response)\n"
   ]
  },
  {
   "cell_type": "code",
   "execution_count": 36,
   "id": "5acfa8cc",
   "metadata": {},
   "outputs": [],
   "source": [
    "prompt_template=\"\"\"\n",
    "Use the following piece of context to answer the question asked.\n",
    "Please try to provide the answer only based on the context\n",
    "\n",
    "{context}\n",
    "Question:{question}\n",
    "\n",
    "Helpful Answers:\n",
    " \"\"\""
   ]
  },
  {
   "cell_type": "code",
   "execution_count": 37,
   "id": "000565af",
   "metadata": {},
   "outputs": [],
   "source": [
    "prompt=PromptTemplate(template=prompt_template,input_variables=[\"context\",\"question\"])"
   ]
  },
  {
   "cell_type": "code",
   "execution_count": 39,
   "id": "204c3816",
   "metadata": {},
   "outputs": [],
   "source": [
    "retrievalQA = RetrievalQA.from_chain_type(\n",
    "    llm=llm,\n",
    "    chain_type=\"stuff\",\n",
    "    retriever=vectorstore.as_retriever(),\n",
    "    return_source_documents=True,\n",
    "    chain_type_kwargs={\"prompt\": prompt}\n",
    ")"
   ]
  },
  {
   "cell_type": "code",
   "execution_count": 42,
   "id": "7501b7cc",
   "metadata": {},
   "outputs": [],
   "source": [
    "query=\"\"\"Net Difference Rate (NDR) and the Index of Inconsistency for persons enumerated by\n",
    "age groups\"\"\""
   ]
  },
  {
   "cell_type": "code",
   "execution_count": 43,
   "id": "9b45094e",
   "metadata": {},
   "outputs": [
    {
     "name": "stdout",
     "output_type": "stream",
     "text": [
      "The provided text states:\n",
      "\n",
      "\"The Net Difference Rate (NDR) and the Index of Inconsistency for persons enumerated by age groups and residence are given in Statement 4.2.\" \n",
      "\n",
      "Therefore, the answer to your question can be found in **Statement 4.2**. \n",
      "\n",
      "\n",
      "\n"
     ]
    }
   ],
   "source": [
    "# Call the QA chain with our query.\n",
    "result = retrievalQA.invoke({\"query\": query})\n",
    "print(result['result'])"
   ]
  },
  {
   "cell_type": "code",
   "execution_count": null,
   "id": "c9828caa",
   "metadata": {},
   "outputs": [],
   "source": []
  }
 ],
 "metadata": {
  "kernelspec": {
   "display_name": ".venv",
   "language": "python",
   "name": "python3"
  },
  "language_info": {
   "codemirror_mode": {
    "name": "ipython",
    "version": 3
   },
   "file_extension": ".py",
   "mimetype": "text/x-python",
   "name": "python",
   "nbconvert_exporter": "python",
   "pygments_lexer": "ipython3",
   "version": "3.11.9"
  }
 },
 "nbformat": 4,
 "nbformat_minor": 5
}
